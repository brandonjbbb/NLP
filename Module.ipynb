{
 "cells": [
  {
   "cell_type": "code",
   "execution_count": 28,
   "metadata": {},
   "outputs": [
    {
     "name": "stdout",
     "output_type": "stream",
     "text": [
      "All prereqs installed.\n"
     ]
    }
   ],
   "source": [
    "import json\n",
    "import pickle\n",
    "import requests\n",
    "import spacy\n",
    "from spacytextblob.spacytextblob import SpacyTextBlob\n",
    "\n",
    "print('All prereqs installed.')\n"
   ]
  },
  {
   "cell_type": "code",
   "execution_count": 29,
   "metadata": {},
   "outputs": [
    {
     "name": "stdout",
     "output_type": "stream",
     "text": [
      "Pipeline components: ['tok2vec', 'tagger', 'parser', 'attribute_ruler', 'lemmatizer', 'ner', 'spacytextblob']\n"
     ]
    }
   ],
   "source": [
    "import spacy\n",
    "from spacytextblob.spacytextblob import SpacyTextBlob\n",
    "\n",
    "# Load the spaCy model\n",
    "nlp = spacy.load(\"en_core_web_sm\")\n",
    "\n",
    "# Add SpacyTextBlob to the pipeline if it's not already there\n",
    "if \"spacytextblob\" not in nlp.pipe_names:\n",
    "    nlp.add_pipe(\"spacytextblob\", last=True)\n",
    "\n",
    "print(\"Pipeline components:\", nlp.pipe_names)  # Check if 'spacytextblob' is in the list\n"
   ]
  },
  {
   "cell_type": "code",
   "execution_count": 30,
   "metadata": {},
   "outputs": [
    {
     "ename": "ValueError",
     "evalue": "[E090] Extension 'polarity' already exists on Doc. To overwrite the existing extension, set `force=True` on `Doc.set_extension`.",
     "output_type": "error",
     "traceback": [
      "\u001b[0;31m---------------------------------------------------------------------------\u001b[0m",
      "\u001b[0;31mValueError\u001b[0m                                Traceback (most recent call last)",
      "Cell \u001b[0;32mIn[30], line 4\u001b[0m\n\u001b[1;32m      1\u001b[0m \u001b[38;5;28;01mfrom\u001b[39;00m \u001b[38;5;21;01mspacy\u001b[39;00m\u001b[38;5;21;01m.\u001b[39;00m\u001b[38;5;21;01mtokens\u001b[39;00m \u001b[38;5;28;01mimport\u001b[39;00m Doc\n\u001b[1;32m      3\u001b[0m \u001b[38;5;66;03m# Manually set polarity and subjectivity as extensions\u001b[39;00m\n\u001b[0;32m----> 4\u001b[0m \u001b[43mDoc\u001b[49m\u001b[38;5;241;43m.\u001b[39;49m\u001b[43mset_extension\u001b[49m\u001b[43m(\u001b[49m\u001b[38;5;124;43m\"\u001b[39;49m\u001b[38;5;124;43mpolarity\u001b[39;49m\u001b[38;5;124;43m\"\u001b[39;49m\u001b[43m,\u001b[49m\u001b[43m \u001b[49m\u001b[43mdefault\u001b[49m\u001b[38;5;241;43m=\u001b[39;49m\u001b[38;5;28;43;01mNone\u001b[39;49;00m\u001b[43m)\u001b[49m\n\u001b[1;32m      5\u001b[0m Doc\u001b[38;5;241m.\u001b[39mset_extension(\u001b[38;5;124m\"\u001b[39m\u001b[38;5;124msubjectivity\u001b[39m\u001b[38;5;124m\"\u001b[39m, default\u001b[38;5;241m=\u001b[39m\u001b[38;5;28;01mNone\u001b[39;00m)\n\u001b[1;32m      7\u001b[0m \u001b[38;5;66;03m# Sample sentence\u001b[39;00m\n",
      "File \u001b[0;32m~/NLP/.venv/lib/python3.12/site-packages/spacy/tokens/doc.pyx:163\u001b[0m, in \u001b[0;36mspacy.tokens.doc.Doc.set_extension\u001b[0;34m()\u001b[0m\n",
      "\u001b[0;31mValueError\u001b[0m: [E090] Extension 'polarity' already exists on Doc. To overwrite the existing extension, set `force=True` on `Doc.set_extension`."
     ]
    }
   ],
   "source": [
    "from spacy.tokens import Doc\n",
    "\n",
    "# Manually set polarity and subjectivity as extensions\n",
    "Doc.set_extension(\"polarity\", default=None)\n",
    "Doc.set_extension(\"subjectivity\", default=None)\n",
    "\n",
    "# Sample sentence\n",
    "text = \"I love working with NLP! It's fascinating and powerful.\"\n",
    "doc = nlp(text)\n",
    "\n",
    "# Manually assign sentiment values (using textblob directly if needed)\n",
    "from textblob import TextBlob\n",
    "blob = TextBlob(doc.text)\n",
    "doc._.polarity = blob.sentiment.polarity\n",
    "doc._.subjectivity = blob.sentiment.subjectivity\n",
    "\n",
    "print(f\"Sentiment polarity: {doc._.polarity}\")\n",
    "print(f\"Sentiment subjectivity: {doc._.subjectivity}\")\n"
   ]
  },
  {
   "cell_type": "code",
   "execution_count": null,
   "metadata": {},
   "outputs": [],
   "source": [
    "from spacy.tokens import Doc\n",
    "from textblob import TextBlob\n",
    "\n",
    "# Ensure extensions are set\n",
    "Doc.set_extension(\"polarity\", default=None, force=True)\n",
    "Doc.set_extension(\"subjectivity\", default=None, force=True)\n",
    "\n",
    "def analyze_sentiment(text):\n",
    "    # Process text with spaCy\n",
    "    doc = nlp(text)\n",
    "    \n",
    "    # Calculate sentiment using TextBlob and assign to extensions\n",
    "    blob = TextBlob(doc.text)\n",
    "    doc._.polarity = blob.sentiment.polarity\n",
    "    doc._.subjectivity = blob.sentiment.subjectivity\n",
    "    \n",
    "    # Print the results\n",
    "    print(f\"Text: {text}\")\n",
    "    print(f\"Sentiment polarity: {doc._.polarity}\")\n",
    "    print(f\"Sentiment subjectivity: {doc._.subjectivity}\")\n",
    "    print(\"-\" * 50)\n",
    "    \n",
    "    # Return the results as a dictionary (optional)\n",
    "    return {\"text\": text, \"polarity\": doc._.polarity, \"subjectivity\": doc._.subjectivity}\n"
   ]
  },
  {
   "cell_type": "code",
   "execution_count": null,
   "metadata": {},
   "outputs": [
    {
     "name": "stdout",
     "output_type": "stream",
     "text": [
      "Text: I love working with NLP! It's fascinating and powerful.\n",
      "Sentiment polarity: 0.5416666666666666\n",
      "Sentiment subjectivity: 0.8166666666666668\n",
      "--------------------------------------------------\n",
      "Text: This product is the worst I’ve ever used.\n",
      "Sentiment polarity: -1.0\n",
      "Sentiment subjectivity: 1.0\n",
      "--------------------------------------------------\n",
      "Text: The weather today is quite average, not too exciting.\n",
      "Sentiment polarity: 0.075\n",
      "Sentiment subjectivity: 0.6\n",
      "--------------------------------------------------\n",
      "Text: I'm thrilled about this new project!\n",
      "Sentiment polarity: 0.3852272727272727\n",
      "Sentiment subjectivity: 0.5772727272727273\n",
      "--------------------------------------------------\n",
      "Text: I feel indifferent about this situation.\n",
      "Sentiment polarity: 0.0\n",
      "Sentiment subjectivity: 0.0\n",
      "--------------------------------------------------\n"
     ]
    }
   ],
   "source": [
    "# Sample sentences\n",
    "sentences = [\n",
    "    \"I love working with NLP! It's fascinating and powerful.\",\n",
    "    \"This product is the worst I’ve ever used.\",\n",
    "    \"The weather today is quite average, not too exciting.\",\n",
    "    \"I'm thrilled about this new project!\",\n",
    "    \"I feel indifferent about this situation.\"\n",
    "]\n",
    "\n",
    "# Analyze each sentence\n",
    "for sentence in sentences:\n",
    "    analyze_sentiment(sentence)\n"
   ]
  },
  {
   "cell_type": "code",
   "execution_count": null,
   "metadata": {},
   "outputs": [
    {
     "name": "stdout",
     "output_type": "stream",
     "text": [
      "Text: The service was excellent and the staff was friendly.\n",
      "Sentiment polarity: 0.6875\n",
      "Sentiment subjectivity: 0.75\n",
      "--------------------------------------------------\n",
      "Text: I am so disappointed with this experience.\n",
      "Sentiment polarity: -0.75\n",
      "Sentiment subjectivity: 0.75\n",
      "--------------------------------------------------\n",
      "Text: It was okay, not the best but not the worst either.\n",
      "Sentiment polarity: 0.16666666666666666\n",
      "Sentiment subjectivity: 0.6\n",
      "--------------------------------------------------\n",
      "Text: Absolutely loved it! Will definitely come back.\n",
      "Sentiment polarity: 0.2916666666666667\n",
      "Sentiment subjectivity: 0.43333333333333335\n",
      "--------------------------------------------------\n",
      "Text: I don't think I'll be using this again.\n",
      "Sentiment polarity: 0.0\n",
      "Sentiment subjectivity: 0.0\n",
      "--------------------------------------------------\n",
      "Sentiment Analysis Summary:\n",
      "Text: The service was excellent and ... | Polarity: 0.6875, Subjectivity: 0.75\n",
      "Text: I am so disappointed with this... | Polarity: -0.75, Subjectivity: 0.75\n",
      "Text: It was okay, not the best but ... | Polarity: 0.16666666666666666, Subjectivity: 0.6\n",
      "Text: Absolutely loved it! Will defi... | Polarity: 0.2916666666666667, Subjectivity: 0.43333333333333335\n",
      "Text: I don't think I'll be using th... | Polarity: 0.0, Subjectivity: 0.0\n"
     ]
    }
   ],
   "source": [
    "# Sample dataset (e.g., a list of reviews or social media posts)\n",
    "data = [\n",
    "    \"The service was excellent and the staff was friendly.\",\n",
    "    \"I am so disappointed with this experience.\",\n",
    "    \"It was okay, not the best but not the worst either.\",\n",
    "    \"Absolutely loved it! Will definitely come back.\",\n",
    "    \"I don't think I'll be using this again.\"\n",
    "]\n",
    "\n",
    "# Analyze sentiment for each entry in the dataset\n",
    "results = [analyze_sentiment(text) for text in data]\n",
    "\n",
    "# Print summarized results (optional)\n",
    "print(\"Sentiment Analysis Summary:\")\n",
    "for result in results:\n",
    "    print(f\"Text: {result['text'][:30]}... | Polarity: {result['polarity']}, Subjectivity: {result['subjectivity']}\")\n"
   ]
  },
  {
   "cell_type": "code",
   "execution_count": null,
   "metadata": {},
   "outputs": [
    {
     "name": "stdout",
     "output_type": "stream",
     "text": [
      "\n",
      "Overall Sentiment:\n",
      "Average Polarity: 0.07916666666666668\n",
      "Average Subjectivity: 0.5066666666666666\n"
     ]
    }
   ],
   "source": [
    "# Calculate average polarity and subjectivity\n",
    "average_polarity = sum(result['polarity'] for result in results) / len(results)\n",
    "average_subjectivity = sum(result['subjectivity'] for result in results) / len(results)\n",
    "\n",
    "print(\"\\nOverall Sentiment:\")\n",
    "print(f\"Average Polarity: {average_polarity}\")\n",
    "print(f\"Average Subjectivity: {average_subjectivity}\")\n"
   ]
  },
  {
   "cell_type": "code",
   "execution_count": 32,
   "metadata": {},
   "outputs": [
    {
     "data": {
      "image/png": "[encoded data removed]",
      "text/plain": [
       "<Figure size 1000x500 with 1 Axes>"
      ]
     },
     "metadata": {},
     "output_type": "display_data"
    },
    {
     "data": {
      "image/png": "[encoded data removed]",
      "text/plain": [
       "<Figure size 1000x500 with 1 Axes>"
      ]
     },
     "metadata": {},
     "output_type": "display_data"
    }
   ],
   "source": [
    "import matplotlib.pyplot as plt\n",
    "\n",
    "# Collect polarity and subjectivity scores from the results\n",
    "polarities = [result['polarity'] for result in results]\n",
    "subjectivities = [result['subjectivity'] for result in results]\n",
    "\n",
    "# Plot Polarity Distribution\n",
    "plt.figure(figsize=(10, 5))\n",
    "plt.hist(polarities, bins=10, edgecolor='black')\n",
    "plt.title(\"Polarity Distribution\")\n",
    "plt.xlabel(\"Polarity\")\n",
    "plt.ylabel(\"Frequency\")\n",
    "plt.show()\n",
    "\n",
    "# Plot Subjectivity Distribution\n",
    "plt.figure(figsize=(10, 5))\n",
    "plt.hist(subjectivities, bins=10, edgecolor='black')\n",
    "plt.title(\"Subjectivity Distribution\")\n",
    "plt.xlabel(\"Subjectivity\")\n",
    "plt.ylabel(\"Frequency\")\n",
    "plt.show()\n"
   ]
  },
  {
   "cell_type": "code",
   "execution_count": 34,
   "metadata": {},
   "outputs": [
    {
     "name": "stdout",
     "output_type": "stream",
     "text": [
      "Positive Sentences: 3\n",
      "Neutral Sentences: 1\n",
      "Negative Sentences: 1\n",
      "\n",
      "Examples of Positive Sentences:\n",
      "Text: The service was excellent and the staff was friendly., Polarity: 0.6875\n",
      "Text: It was okay, not the best but not the worst either., Polarity: 0.16666666666666666\n",
      "Text: Absolutely loved it! Will definitely come back., Polarity: 0.2916666666666667\n",
      "\n",
      "Examples of Neutral Sentences:\n",
      "Text: I don't think I'll be using this again., Polarity: 0.0\n",
      "\n",
      "Examples of Negative Sentences:\n",
      "Text: I am so disappointed with this experience., Polarity: -0.75\n"
     ]
    }
   ],
   "source": [
    "# Categorize and count sentiments\n",
    "positive = []\n",
    "neutral = []\n",
    "negative = []\n",
    "\n",
    "for result in results:\n",
    "    if result['polarity'] > 0.1:\n",
    "        positive.append(result)\n",
    "    elif result['polarity'] < -0.1:\n",
    "        negative.append(result)\n",
    "    else:\n",
    "        neutral.append(result)\n",
    "\n",
    "# Print summary of each category\n",
    "print(f\"Positive Sentences: {len(positive)}\")\n",
    "print(f\"Neutral Sentences: {len(neutral)}\")\n",
    "print(f\"Negative Sentences: {len(negative)}\\n\")\n",
    "\n",
    "# Optional: Print examples of each category\n",
    "print(\"Examples of Positive Sentences:\")\n",
    "for item in positive[:3]:  # Print first 3 positive sentences\n",
    "    print(f\"Text: {item['text']}, Polarity: {item['polarity']}\")\n",
    "\n",
    "print(\"\\nExamples of Neutral Sentences:\")\n",
    "for item in neutral[:3]:  # Print first 3 neutral sentences\n",
    "    print(f\"Text: {item['text']}, Polarity: {item['polarity']}\")\n",
    "\n",
    "print(\"\\nExamples of Negative Sentences:\")\n",
    "for item in negative[:3]:  # Print first 3 negative sentences\n",
    "    print(f\"Text: {item['text']}, Polarity: {item['polarity']}\")\n"
   ]
  }
 ],
 "metadata": {
  "kernelspec": {
   "display_name": ".venv",
   "language": "python",
   "name": "python3"
  },
  "language_info": {
   "codemirror_mode": {
    "name": "ipython",
    "version": 3
   },
   "file_extension": ".py",
   "mimetype": "text/x-python",
   "name": "python",
   "nbconvert_exporter": "python",
   "pygments_lexer": "ipython3",
   "version": "3.12.5"
  }
 },
 "nbformat": 4,
 "nbformat_minor": 2
}
